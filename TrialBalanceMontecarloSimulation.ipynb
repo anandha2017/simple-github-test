{
  "nbformat": 4,
  "nbformat_minor": 0,
  "metadata": {
    "colab": {
      "provenance": [],
      "authorship_tag": "ABX9TyPxyVN6q15bC1I64zjVRCFh",
      "include_colab_link": true
    },
    "kernelspec": {
      "name": "python3",
      "display_name": "Python 3"
    },
    "language_info": {
      "name": "python"
    }
  },
  "cells": [
    {
      "cell_type": "markdown",
      "metadata": {
        "id": "view-in-github",
        "colab_type": "text"
      },
      "source": [
        "<a href=\"https://colab.research.google.com/github/anandha2017/simple-github-test/blob/master/TrialBalanceMontecarloSimulation.ipynb\" target=\"_parent\"><img src=\"https://colab.research.google.com/assets/colab-badge.svg\" alt=\"Open In Colab\"/></a>"
      ]
    },
    {
      "cell_type": "code",
      "source": [
        "import numpy as np\n",
        "import matplotlib.pyplot as plt"
      ],
      "metadata": {
        "id": "lulSPauKyRYI"
      },
      "execution_count": 45,
      "outputs": []
    },
    {
      "cell_type": "code",
      "source": [
        "# Parameters\n",
        "num_accounts = 30000\n",
        "num_simulations = 10\n",
        "num_days = 30\n",
        "annual_interest_rate = 0.05\n",
        "daily_interest_rate = annual_interest_rate / 365"
      ],
      "metadata": {
        "id": "buqjfN6EyXpR"
      },
      "execution_count": 46,
      "outputs": []
    },
    {
      "cell_type": "code",
      "source": [
        "def monte_carlo_simulation(num_accounts, num_simulations, num_days, daily_interest_rate):\n",
        "  differences = []\n",
        "  for sim in range(num_simulations):\n",
        "    # Generate random balances\n",
        "    balances = np.random.uniform(1000, 5000, size=(num_accounts, num_days))\n",
        "\n",
        "    # Calculate daily accruals to 10 decimal places\n",
        "    daily_accruals = np.round(balances * daily_interest_rate, 10)\n",
        "    # print('daily = ')\n",
        "    # print(daily_accruals)\n",
        "    # print('np')\n",
        "    # print(np)\n",
        "\n",
        "    # Method 1: Sum then round\n",
        "    method1_interest = np.round(np.sum(daily_accruals, axis=1), 2)\n",
        "    # print('Sum then round = ')\n",
        "    # print(method1_interest)\n",
        "\n",
        "    # Method 2: Round then sum\n",
        "    method2_interest = np.sum(np.round(daily_accruals, 2), axis=1)\n",
        "    # print('Round then sum = ')\n",
        "    # print(method2_interest)\n",
        "\n",
        "    # Difference per account\n",
        "    diff = method1_interest - method2_interest\n",
        "    print('diff = ')\n",
        "    print(diff)\n",
        "\n",
        "    # Total difference\n",
        "    total_diff = np.sum(diff)\n",
        "    # print('total_diff = ')\n",
        "    # print(total_diff)\n",
        "\n",
        "    differences.append(total_diff)\n",
        "    # print('differences = ')\n",
        "    # print(differences)\n",
        "\n",
        "    # Optional: Print progress\n",
        "    if (sim + 1) % 100 == 0:\n",
        "      print(f\"Simulation {sim + 1}/{num_simulations} completed\")\n",
        "\n",
        "  return differences"
      ],
      "metadata": {
        "id": "ozX_Z8exyZ-f"
      },
      "execution_count": 47,
      "outputs": []
    },
    {
      "cell_type": "code",
      "source": [
        "# Run the simulation\n",
        "differences = monte_carlo_simulation(num_accounts, num_simulations, num_days, daily_interest_rate)\n"
      ],
      "metadata": {
        "colab": {
          "base_uri": "https://localhost:8080/"
        },
        "id": "ktYqPaYUyeY8",
        "outputId": "a5c36ac1-be5d-4eb5-dfed-6f5cd086cef3"
      },
      "execution_count": 48,
      "outputs": [
        {
          "output_type": "stream",
          "name": "stdout",
          "text": [
            "diff = \n",
            "[-1.00000000e-02  1.77635684e-15  0.00000000e+00 ... -1.00000000e-02\n",
            " -1.00000000e-02  2.00000000e-02]\n",
            "diff = \n",
            "[ 0.    0.03 -0.03 ... -0.01 -0.02  0.02]\n",
            "diff = \n",
            "[ 0.01 -0.02 -0.01 ...  0.01  0.02  0.02]\n",
            "diff = \n",
            "[ 1.00000000e-02 -1.00000000e-02  1.77635684e-15 ...  2.00000000e-02\n",
            " -2.00000000e-02  2.00000000e-02]\n",
            "diff = \n",
            "[-0.01 -0.03  0.02 ... -0.02  0.03 -0.02]\n",
            "diff = \n",
            "[-0.01  0.04  0.02 ...  0.01 -0.01  0.01]\n",
            "diff = \n",
            "[ 3.00000000e-02 -2.00000000e-02  3.00000000e-02 ... -1.00000000e-02\n",
            " -1.77635684e-15  1.00000000e-02]\n",
            "diff = \n",
            "[-2.00000000e-02  0.00000000e+00  1.00000000e-02 ... -3.55271368e-15\n",
            "  0.00000000e+00  2.00000000e-02]\n",
            "diff = \n",
            "[-1.77635684e-15  1.00000000e-02  1.77635684e-15 ...  1.00000000e-02\n",
            " -3.55271368e-15 -2.00000000e-02]\n",
            "diff = \n",
            "[ 2.00000000e-02  1.00000000e-02 -1.00000000e-02 ...  1.00000000e-02\n",
            "  3.55271368e-15  1.00000000e-02]\n"
          ]
        }
      ]
    },
    {
      "cell_type": "code",
      "source": [
        "# Convert to NumPy array\n",
        "differences = np.array(differences)"
      ],
      "metadata": {
        "id": "52aNqLlyygZF"
      },
      "execution_count": 42,
      "outputs": []
    },
    {
      "cell_type": "code",
      "source": [
        "# Analysis\n",
        "average_difference = np.mean(differences)\n",
        "max_difference = np.max(differences)\n",
        "min_difference = np.min(differences)\n",
        "std_dev_difference = np.std(differences)\n",
        "\n",
        "print(f\"Average Difference: £{average_difference:.2f}\")\n",
        "print(f\"Maximum Difference: £{max_difference:.2f}\")\n",
        "print(f\"Minimum Difference: £{min_difference:.2f}\")\n",
        "print(f\"Standard Deviation: ${std_dev_difference:.2f}\")\n",
        "\n",
        "# Plot the distribution\n",
        "plt.figure(figsize=(10, 6))\n",
        "plt.hist(differences, bins=50, edgecolor='k')\n",
        "plt.title('Distribution of Total Differences Between Methods')\n",
        "plt.xlabel('Total Difference (£)')\n",
        "plt.ylabel('Frequency')\n",
        "plt.grid(True)\n",
        "plt.show()"
      ],
      "metadata": {
        "colab": {
          "base_uri": "https://localhost:8080/",
          "height": 635
        },
        "id": "oM3aUs8Ayi96",
        "outputId": "3e9e696d-0b60-4a1e-d8c5-b6359f596e00"
      },
      "execution_count": 43,
      "outputs": [
        {
          "output_type": "stream",
          "name": "stdout",
          "text": [
            "Average Difference: £12.18\n",
            "Maximum Difference: £14.75\n",
            "Minimum Difference: £10.54\n",
            "Standard Deviation: $1.29\n"
          ]
        },
        {
          "output_type": "display_data",
          "data": {
            "text/plain": [
              "<Figure size 1000x600 with 1 Axes>"
            ],
            "image/png": "[encoded data removed]"
          },
          "metadata": {}
        }
      ]
    }
  ]
}