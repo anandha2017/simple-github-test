{
  "nbformat": 4,
  "nbformat_minor": 0,
  "metadata": {
    "colab": {
      "provenance": [],
      "authorship_tag": "ABX9TyNMv4Md0Qqjkf9QYqkBabR8",
      "include_colab_link": true
    },
    "kernelspec": {
      "name": "python3",
      "display_name": "Python 3"
    },
    "language_info": {
      "name": "python"
    }
  },
  "cells": [
    {
      "cell_type": "markdown",
      "metadata": {
        "id": "view-in-github",
        "colab_type": "text"
      },
      "source": [
        "<a href=\"https://colab.research.google.com/github/anandha2017/simple-github-test/blob/master/TrialBalanceMontecarloSimulation.ipynb\" target=\"_parent\"><img src=\"https://colab.research.google.com/assets/colab-badge.svg\" alt=\"Open In Colab\"/></a>"
      ]
    },
    {
      "cell_type": "code",
      "source": [
        "import numpy as np\n",
        "import matplotlib.pyplot as plt"
      ],
      "metadata": {
        "id": "lulSPauKyRYI"
      },
      "execution_count": null,
      "outputs": []
    },
    {
      "cell_type": "code",
      "source": [
        "# Parameters\n",
        "num_accounts = 30000\n",
        "num_simulations = 10000\n",
        "num_days = 30\n",
        "annual_interest_rate = 0.05\n",
        "daily_interest_rate = annual_interest_rate / 365\n",
        "verbosity_level = 0  # Adjust as needed for debugging; 0, 1 or 2"
      ],
      "metadata": {
        "id": "buqjfN6EyXpR"
      },
      "execution_count": null,
      "outputs": []
    },
    {
      "cell_type": "code",
      "source": [
        "def monte_carlo_simulation(num_accounts, num_simulations, num_days, daily_interest_rate, verbosity=0):\n",
        "    differences = []\n",
        "    for sim in range(num_simulations):\n",
        "        if verbosity > 0:\n",
        "            print(f\"\\nStarting Simulation {sim + 1}/{num_simulations}\")\n",
        "\n",
        "        # Generate random balances\n",
        "        balances = np.random.uniform(1000, 5000, size=(num_accounts, num_days))\n",
        "        if verbosity > 1:\n",
        "            print(f\"Balances for Simulation {sim + 1}:\")\n",
        "            print(balances)\n",
        "\n",
        "        # Calculate daily accruals to 10 decimal places\n",
        "        daily_accruals = np.round(balances * daily_interest_rate, 10)\n",
        "        if verbosity > 1:\n",
        "            print(f\"Daily Accruals for Simulation {sim + 1}:\")\n",
        "            print(daily_accruals)\n",
        "\n",
        "        # Method 1: Sum daily accruals per account, then round to 2 decimal places\n",
        "        method1_interest = np.round(np.sum(daily_accruals, axis=1), 2)\n",
        "        if verbosity > 1:\n",
        "            print(f\"Method 1 Interest for Simulation {sim + 1}:\")\n",
        "            print(method1_interest)\n",
        "\n",
        "        # Method 2: Round daily accruals to 2 decimal places per day, then sum per account\n",
        "        method2_interest = np.sum(np.round(daily_accruals, 2), axis=1)\n",
        "        if verbosity > 1:\n",
        "            print(f\"Method 2 Interest for Simulation {sim + 1}:\")\n",
        "            print(method2_interest)\n",
        "\n",
        "        # Sum all interest from Method 1\n",
        "        total_interest_method1 = np.sum(method1_interest)\n",
        "\n",
        "        # Sum all interest from Method 2\n",
        "        total_interest_method2 = np.sum(method2_interest)\n",
        "\n",
        "        if verbosity > 0:\n",
        "            print(f\"Total Interest Method 1 for Simulation {sim + 1}: {total_interest_method1}\")\n",
        "            print(f\"Total Interest Method 2 for Simulation {sim + 1}: {total_interest_method2}\")\n",
        "\n",
        "        # Calculate the difference between the total interests\n",
        "        difference = total_interest_method1 - total_interest_method2\n",
        "        if verbosity > 0:\n",
        "            print(f\"Difference between methods for Simulation {sim + 1}: {difference}\")\n",
        "\n",
        "        # Append the difference to the list\n",
        "        differences.append(difference)\n",
        "\n",
        "        # Optional: Print progress every 100 simulations if verbosity is 0\n",
        "        if verbosity == 0 and (sim + 1) % 100 == 0:\n",
        "            print(f\"Simulation {sim + 1}/{num_simulations} completed\")\n",
        "\n",
        "    return differences"
      ],
      "metadata": {
        "id": "ozX_Z8exyZ-f"
      },
      "execution_count": null,
      "outputs": []
    },
    {
      "cell_type": "code",
      "source": [
        "# Run the simulation\n",
        "differences = monte_carlo_simulation(num_accounts, num_simulations, num_days, daily_interest_rate, verbosity=verbosity_level)\n",
        "\n"
      ],
      "metadata": {
        "colab": {
          "base_uri": "https://localhost:8080/"
        },
        "id": "ktYqPaYUyeY8",
        "outputId": "b46db597-117a-497c-ed72-6aa2af2b4788"
      },
      "execution_count": null,
      "outputs": [
        {
          "output_type": "stream",
          "name": "stdout",
          "text": [
            "Simulation 100/10000 completed\n",
            "Simulation 200/10000 completed\n",
            "Simulation 300/10000 completed\n",
            "Simulation 400/10000 completed\n",
            "Simulation 500/10000 completed\n",
            "Simulation 600/10000 completed\n",
            "Simulation 700/10000 completed\n",
            "Simulation 800/10000 completed\n",
            "Simulation 900/10000 completed\n",
            "Simulation 1000/10000 completed\n",
            "Simulation 1100/10000 completed\n",
            "Simulation 1200/10000 completed\n",
            "Simulation 1300/10000 completed\n",
            "Simulation 1400/10000 completed\n",
            "Simulation 1500/10000 completed\n",
            "Simulation 1600/10000 completed\n",
            "Simulation 1700/10000 completed\n",
            "Simulation 1800/10000 completed\n",
            "Simulation 1900/10000 completed\n",
            "Simulation 2000/10000 completed\n",
            "Simulation 2100/10000 completed\n",
            "Simulation 2200/10000 completed\n",
            "Simulation 2300/10000 completed\n",
            "Simulation 2400/10000 completed\n",
            "Simulation 2500/10000 completed\n",
            "Simulation 2600/10000 completed\n",
            "Simulation 2700/10000 completed\n",
            "Simulation 2800/10000 completed\n",
            "Simulation 2900/10000 completed\n",
            "Simulation 3000/10000 completed\n",
            "Simulation 3100/10000 completed\n",
            "Simulation 3200/10000 completed\n",
            "Simulation 3300/10000 completed\n",
            "Simulation 3400/10000 completed\n",
            "Simulation 3500/10000 completed\n",
            "Simulation 3600/10000 completed\n",
            "Simulation 3700/10000 completed\n",
            "Simulation 3800/10000 completed\n",
            "Simulation 3900/10000 completed\n",
            "Simulation 4000/10000 completed\n",
            "Simulation 4100/10000 completed\n",
            "Simulation 4200/10000 completed\n",
            "Simulation 4300/10000 completed\n",
            "Simulation 4400/10000 completed\n",
            "Simulation 4500/10000 completed\n",
            "Simulation 4600/10000 completed\n",
            "Simulation 4700/10000 completed\n",
            "Simulation 4800/10000 completed\n",
            "Simulation 4900/10000 completed\n",
            "Simulation 5000/10000 completed\n",
            "Simulation 5100/10000 completed\n",
            "Simulation 5200/10000 completed\n",
            "Simulation 5300/10000 completed\n",
            "Simulation 5400/10000 completed\n",
            "Simulation 5500/10000 completed\n",
            "Simulation 5600/10000 completed\n",
            "Simulation 5700/10000 completed\n",
            "Simulation 5800/10000 completed\n",
            "Simulation 5900/10000 completed\n",
            "Simulation 6000/10000 completed\n",
            "Simulation 6100/10000 completed\n",
            "Simulation 6200/10000 completed\n",
            "Simulation 6300/10000 completed\n",
            "Simulation 6400/10000 completed\n",
            "Simulation 6500/10000 completed\n",
            "Simulation 6600/10000 completed\n",
            "Simulation 6700/10000 completed\n",
            "Simulation 6800/10000 completed\n",
            "Simulation 6900/10000 completed\n",
            "Simulation 7000/10000 completed\n",
            "Simulation 7100/10000 completed\n",
            "Simulation 7200/10000 completed\n",
            "Simulation 7300/10000 completed\n",
            "Simulation 7400/10000 completed\n",
            "Simulation 7500/10000 completed\n",
            "Simulation 7600/10000 completed\n",
            "Simulation 7700/10000 completed\n",
            "Simulation 7800/10000 completed\n",
            "Simulation 7900/10000 completed\n",
            "Simulation 8000/10000 completed\n",
            "Simulation 8100/10000 completed\n",
            "Simulation 8200/10000 completed\n",
            "Simulation 8300/10000 completed\n",
            "Simulation 8400/10000 completed\n",
            "Simulation 8500/10000 completed\n",
            "Simulation 8600/10000 completed\n",
            "Simulation 8700/10000 completed\n",
            "Simulation 8800/10000 completed\n",
            "Simulation 8900/10000 completed\n",
            "Simulation 9000/10000 completed\n",
            "Simulation 9100/10000 completed\n",
            "Simulation 9200/10000 completed\n",
            "Simulation 9300/10000 completed\n",
            "Simulation 9400/10000 completed\n",
            "Simulation 9500/10000 completed\n",
            "Simulation 9600/10000 completed\n",
            "Simulation 9700/10000 completed\n",
            "Simulation 9800/10000 completed\n",
            "Simulation 9900/10000 completed\n",
            "Simulation 10000/10000 completed\n"
          ]
        }
      ]
    },
    {
      "cell_type": "code",
      "source": [
        "# Convert to NumPy array\n",
        "differences = np.array(differences)"
      ],
      "metadata": {
        "id": "52aNqLlyygZF"
      },
      "execution_count": null,
      "outputs": []
    },
    {
      "cell_type": "code",
      "source": [
        "# Analysis\n",
        "average_difference = np.mean(differences)\n",
        "max_difference = np.max(differences)\n",
        "min_difference = np.min(differences)\n",
        "std_dev_difference = np.std(differences)\n",
        "\n",
        "print(\"\\nSimulation Results:\")\n",
        "print(f\"Average Total Difference: £{average_difference:.2f}\")\n",
        "print(f\"Maximum Total Difference: £{max_difference:.2f}\")\n",
        "print(f\"Minimum Total Difference: £{min_difference:.2f}\")\n",
        "print(f\"Standard Deviation: £{std_dev_difference:.2f}\")\n",
        "\n",
        "# Plot the distribution\n",
        "plt.figure(figsize=(10, 6))\n",
        "plt.hist(differences, bins=50, edgecolor='k')\n",
        "plt.title('Distribution of Total Differences Between Methods')\n",
        "plt.xlabel('Total Difference (£)')\n",
        "plt.ylabel('Frequency')\n",
        "plt.grid(True)\n",
        "plt.show()"
      ],
      "metadata": {
        "colab": {
          "base_uri": "https://localhost:8080/",
          "height": 671
        },
        "id": "oM3aUs8Ayi96",
        "outputId": "4e18550f-0361-4072-cafa-1ce747d4158d"
      },
      "execution_count": null,
      "outputs": [
        {
          "output_type": "stream",
          "name": "stdout",
          "text": [
            "\n",
            "Simulation Results:\n",
            "Average Total Difference: £12.53\n",
            "Maximum Total Difference: £23.18\n",
            "Minimum Total Difference: £2.22\n",
            "Standard Deviation: £2.78\n"
          ]
        },
        {
          "output_type": "display_data",
          "data": {
            "text/plain": [
              "<Figure size 1000x600 with 1 Axes>"
            ],
            "image/png": "[encoded data removed]"
          },
          "metadata": {}
        }
      ]
    }
  ]
}