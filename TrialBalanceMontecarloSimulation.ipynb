{
  "nbformat": 4,
  "nbformat_minor": 0,
  "metadata": {
    "colab": {
      "provenance": [],
      "authorship_tag": "ABX9TyNQfQn9bKV/uBktR5lQmCpT",
      "include_colab_link": true
    },
    "kernelspec": {
      "name": "python3",
      "display_name": "Python 3"
    },
    "language_info": {
      "name": "python"
    }
  },
  "cells": [
    {
      "cell_type": "markdown",
      "metadata": {
        "id": "view-in-github",
        "colab_type": "text"
      },
      "source": [
        "<a href=\"https://colab.research.google.com/github/anandha2017/simple-github-test/blob/master/TrialBalanceMontecarloSimulation.ipynb\" target=\"_parent\"><img src=\"https://colab.research.google.com/assets/colab-badge.svg\" alt=\"Open In Colab\"/></a>"
      ]
    },
    {
      "cell_type": "code",
      "source": [
        "import numpy as np\n",
        "import matplotlib.pyplot as plt"
      ],
      "metadata": {
        "id": "lulSPauKyRYI"
      },
      "execution_count": 69,
      "outputs": []
    },
    {
      "cell_type": "code",
      "source": [
        "# Parameters\n",
        "num_accounts = 6000 # 30 accounts per day, 30 days in a month, 6 months\n",
        "min_balance  = 1000\n",
        "max_balance  = 500000\n",
        "mean_balance = 2500\n",
        "sigma = 0.5 # Standard deviation (adjust to control the spread)\n",
        "num_simulations = 5000\n",
        "num_days = 30\n",
        "annual_interest_rate = 0.05\n",
        "daily_interest_rate = annual_interest_rate / 365\n",
        "verbosity_level = 0  # Adjust as needed for debugging; 0, 1 or 2"
      ],
      "metadata": {
        "id": "buqjfN6EyXpR"
      },
      "execution_count": 72,
      "outputs": []
    },
    {
      "cell_type": "code",
      "source": [
        "def monte_carlo_simulation(num_accounts, num_simulations, num_days, daily_interest_rate, verbosity=0):\n",
        "    differences = []\n",
        "    for sim in range(num_simulations):\n",
        "        if verbosity > 0:\n",
        "            print(f\"\\nStarting Simulation {sim + 1}/{num_simulations}\")\n",
        "\n",
        "        # Generate random balances using a log-normal distribution\n",
        "        mu = np.log(mean_balance)  # Mean of the underlying normal distribution\n",
        "        balances = np.random.lognormal(mean=mu, sigma=sigma, size=(num_accounts, num_days))\n",
        "        balances = np.clip(balances, min_balance, max_balance)\n",
        "        if verbosity > 1:\n",
        "            print(f\"Balances for Simulation {sim + 1}:\")\n",
        "            print(balances)\n",
        "\n",
        "        if verbosity > 2:\n",
        "            # Flatten the balances array to a 1D array for plotting\n",
        "            flattened_balances = balances.flatten()\n",
        "\n",
        "            # Plot the histogram\n",
        "            plt.figure(figsize=(10, 6))\n",
        "            plt.hist(flattened_balances, bins=100, edgecolor='k', range=(min_balance, max_balance))\n",
        "            plt.title('Distribution of Account Balances')\n",
        "            plt.xlabel('Balance (£)')\n",
        "            plt.ylabel('Frequency')\n",
        "            plt.xlim(min_balance, max_balance)\n",
        "            plt.grid(True)\n",
        "            plt.show()\n",
        "\n",
        "        # Calculate daily accruals to 10 decimal places\n",
        "        daily_accruals = np.round(balances * daily_interest_rate, 10)\n",
        "        if verbosity > 1:\n",
        "            print(f\"Daily Accruals for Simulation {sim + 1}:\")\n",
        "            print(daily_accruals)\n",
        "\n",
        "        # Method 1: Sum daily accruals per account, then round to 2 decimal places\n",
        "        method1_interest = np.round(np.sum(daily_accruals, axis=1), 2)\n",
        "        if verbosity > 1:\n",
        "            print(f\"Method 1 Interest for Simulation {sim + 1}:\")\n",
        "            print(method1_interest)\n",
        "\n",
        "        # Method 2: Round daily accruals to 2 decimal places per day, then sum per account\n",
        "        method2_interest = np.sum(np.round(daily_accruals, 2), axis=1)\n",
        "        if verbosity > 1:\n",
        "            print(f\"Method 2 Interest for Simulation {sim + 1}:\")\n",
        "            print(method2_interest)\n",
        "\n",
        "        # Sum all interest from Method 1\n",
        "        total_interest_method1 = np.sum(method1_interest)\n",
        "\n",
        "        # Sum all interest from Method 2\n",
        "        total_interest_method2 = np.sum(method2_interest)\n",
        "\n",
        "        if verbosity > 0:\n",
        "            print(f\"Total Interest Method 1 for Simulation {sim + 1}: {total_interest_method1}\")\n",
        "            print(f\"Total Interest Method 2 for Simulation {sim + 1}: {total_interest_method2}\")\n",
        "\n",
        "        # Calculate the difference between the total interests\n",
        "        difference = total_interest_method1 - total_interest_method2\n",
        "        if verbosity > 0:\n",
        "            print(f\"Difference between methods for Simulation {sim + 1}: {difference}\")\n",
        "\n",
        "        # Append the difference to the list\n",
        "        differences.append(difference)\n",
        "\n",
        "        # Optional: Print progress every 100 simulations if verbosity is 0\n",
        "        if verbosity == 0 and (sim + 1) % 100 == 0:\n",
        "            print(f\"Simulation {sim + 1}/{num_simulations} completed\")\n",
        "\n",
        "    return differences"
      ],
      "metadata": {
        "id": "ozX_Z8exyZ-f"
      },
      "execution_count": 73,
      "outputs": []
    },
    {
      "cell_type": "code",
      "source": [
        "# Run the simulation\n",
        "differences = monte_carlo_simulation(num_accounts, num_simulations, num_days, daily_interest_rate, verbosity=verbosity_level)"
      ],
      "metadata": {
        "id": "ktYqPaYUyeY8",
        "outputId": "503d2dd0-8c86-4724-fdf4-aad251fd279f",
        "colab": {
          "base_uri": "https://localhost:8080/"
        }
      },
      "execution_count": 74,
      "outputs": [
        {
          "output_type": "stream",
          "name": "stdout",
          "text": [
            "Simulation 100/5000 completed\n",
            "Simulation 200/5000 completed\n",
            "Simulation 300/5000 completed\n",
            "Simulation 400/5000 completed\n",
            "Simulation 500/5000 completed\n",
            "Simulation 600/5000 completed\n",
            "Simulation 700/5000 completed\n",
            "Simulation 800/5000 completed\n",
            "Simulation 900/5000 completed\n",
            "Simulation 1000/5000 completed\n",
            "Simulation 1100/5000 completed\n",
            "Simulation 1200/5000 completed\n",
            "Simulation 1300/5000 completed\n",
            "Simulation 1400/5000 completed\n",
            "Simulation 1500/5000 completed\n",
            "Simulation 1600/5000 completed\n",
            "Simulation 1700/5000 completed\n",
            "Simulation 1800/5000 completed\n",
            "Simulation 1900/5000 completed\n",
            "Simulation 2000/5000 completed\n",
            "Simulation 2100/5000 completed\n",
            "Simulation 2200/5000 completed\n",
            "Simulation 2300/5000 completed\n",
            "Simulation 2400/5000 completed\n",
            "Simulation 2500/5000 completed\n",
            "Simulation 2600/5000 completed\n",
            "Simulation 2700/5000 completed\n",
            "Simulation 2800/5000 completed\n",
            "Simulation 2900/5000 completed\n",
            "Simulation 3000/5000 completed\n",
            "Simulation 3100/5000 completed\n",
            "Simulation 3200/5000 completed\n",
            "Simulation 3300/5000 completed\n",
            "Simulation 3400/5000 completed\n",
            "Simulation 3500/5000 completed\n",
            "Simulation 3600/5000 completed\n",
            "Simulation 3700/5000 completed\n",
            "Simulation 3800/5000 completed\n",
            "Simulation 3900/5000 completed\n",
            "Simulation 4000/5000 completed\n",
            "Simulation 4100/5000 completed\n",
            "Simulation 4200/5000 completed\n",
            "Simulation 4300/5000 completed\n",
            "Simulation 4400/5000 completed\n",
            "Simulation 4500/5000 completed\n",
            "Simulation 4600/5000 completed\n",
            "Simulation 4700/5000 completed\n",
            "Simulation 4800/5000 completed\n",
            "Simulation 4900/5000 completed\n",
            "Simulation 5000/5000 completed\n"
          ]
        }
      ]
    },
    {
      "cell_type": "code",
      "source": [
        "# Convert to NumPy array\n",
        "differences = np.array(differences)"
      ],
      "metadata": {
        "id": "52aNqLlyygZF"
      },
      "execution_count": 54,
      "outputs": []
    },
    {
      "cell_type": "code",
      "source": [
        "# Analysis\n",
        "average_difference = np.mean(differences)\n",
        "max_difference = np.max(differences)\n",
        "min_difference = np.min(differences)\n",
        "std_dev_difference = np.std(differences)\n",
        "\n",
        "print(\"\\nSimulation Results:\")\n",
        "print(f\"Average Total Difference: £{average_difference:.2f}\")\n",
        "print(f\"Maximum Total Difference: £{max_difference:.2f}\")\n",
        "print(f\"Minimum Total Difference: £{min_difference:.2f}\")\n",
        "print(f\"Standard Deviation: £{std_dev_difference:.2f}\")\n",
        "\n",
        "# Plot the distribution\n",
        "plt.figure(figsize=(10, 6))\n",
        "plt.hist(differences, bins=50, edgecolor='k')\n",
        "plt.title('Distribution of Total Differences Between Methods')\n",
        "plt.xlabel('Total Difference (£)')\n",
        "plt.ylabel('Frequency')\n",
        "plt.grid(True)\n",
        "plt.show()"
      ],
      "metadata": {
        "colab": {
          "base_uri": "https://localhost:8080/",
          "height": 671
        },
        "id": "oM3aUs8Ayi96",
        "outputId": "997da948-6021-4149-b9c6-67751a51d9e3"
      },
      "execution_count": 55,
      "outputs": [
        {
          "output_type": "stream",
          "name": "stdout",
          "text": [
            "\n",
            "Simulation Results:\n",
            "Average Total Difference: £-97.52\n",
            "Maximum Total Difference: £-93.74\n",
            "Minimum Total Difference: £-100.84\n",
            "Standard Deviation: £1.21\n"
          ]
        },
        {
          "output_type": "display_data",
          "data": {
            "text/plain": [
              "<Figure size 1000x600 with 1 Axes>"
            ],
            "image/png": "[encoded data removed]"
          },
          "metadata": {}
        }
      ]
    }
  ]
}